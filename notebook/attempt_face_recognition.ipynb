{
 "cells": [
  {
   "cell_type": "code",
   "execution_count": 7,
   "metadata": {},
   "outputs": [],
   "source": [
    "import face_recognition\n",
    "import cv2"
   ]
  },
  {
   "cell_type": "code",
   "execution_count": 11,
   "metadata": {},
   "outputs": [
    {
     "name": "stdout",
     "output_type": "stream",
     "text": [
      "Image resized to 640x480 for testing.\n",
      "Testing face detection using CNN model...\n",
      "Face locations (CNN): [(186, 346, 355, 176)]\n",
      "Testing face detection using HOG model...\n",
      "Face locations (HOG): [(201, 366, 387, 180)]\n",
      "Attempting to extract face encoding using CNN-detected face...\n",
      "Face encoding extracted successfully!\n"
     ]
    },
    {
     "ename": "",
     "evalue": "",
     "output_type": "error",
     "traceback": [
      "\u001b[1;31mThe Kernel crashed while executing code in the current cell or a previous cell. \n",
      "\u001b[1;31mPlease review the code in the cell(s) to identify a possible cause of the failure. \n",
      "\u001b[1;31mClick <a href='https://aka.ms/vscodeJupyterKernelCrash'>here</a> for more info. \n",
      "\u001b[1;31mView Jupyter <a href='command:jupyter.viewOutput'>log</a> for further details."
     ]
    }
   ],
   "source": [
    "# Function to test face detection on a single image\n",
    "def test_face_detection(image_path, resize=False):\n",
    "    # Load the image\n",
    "    image = face_recognition.load_image_file(image_path)\n",
    "    # Optionally resize the image for better face detection\n",
    "    if resize:\n",
    "        image = cv2.resize(image, (640, 480))\n",
    "        print(\"Image resized to 640x480 for testing.\")\n",
    "\n",
    "    # Try to find face locations (bounding boxes) using the default CNN model\n",
    "    print(\"Testing face detection using CNN model...\")\n",
    "    face_locations_cnn = face_recognition.face_locations(image, model=\"cnn\")\n",
    "    print(f\"Face locations (CNN): {face_locations_cnn}\")\n",
    "\n",
    "    # Try to find face locations using the HOG model (faster but less accurate)\n",
    "    print(\"Testing face detection using HOG model...\")\n",
    "    face_locations_hog = face_recognition.face_locations(image, model=\"hog\")\n",
    "    print(f\"Face locations (HOG): {face_locations_hog}\")\n",
    "\n",
    "    # Try to find face encodings using the first face detected (if any)\n",
    "    if face_locations_cnn:\n",
    "        print(\"Attempting to extract face encoding using CNN-detected face...\")\n",
    "        face_encodings = face_recognition.face_encodings(image, face_locations_cnn)\n",
    "        if face_encodings:\n",
    "            print(\"Face encoding extracted successfully!\")\n",
    "        else:\n",
    "            print(\"Failed to extract face encoding from CNN-detected face.\")\n",
    "    elif face_locations_hog:\n",
    "        print(\"Attempting to extract face encoding using HOG-detected face...\")\n",
    "        face_encodings = face_recognition.face_encodings(image, face_locations_hog)\n",
    "        if face_encodings:\n",
    "            print(\"Face encoding extracted successfully!\")\n",
    "        else:\n",
    "            print(\"Failed to extract face encoding from HOG-detected face.\")\n",
    "    else:\n",
    "        print(\"No face detected in the image.\")\n",
    "\n",
    "# Test the function with one of your images\n",
    "image_path = \"C:/Users/Michael Ramirez/Documents/GitHub/Michael CV Recognition/data/michael_face/WIN_20241010_01_54_24_Pro.jpg\"\n",
    "\n",
    "# Test face detection without resizing first\n",
    "#test_face_detection(image_path, resize=False)\n",
    "\n",
    "# Optionally, test face detection with resizing\n",
    "test_face_detection(image_path, resize=True)\n"
   ]
  }
 ],
 "metadata": {
  "kernelspec": {
   "display_name": "myenv",
   "language": "python",
   "name": "python3"
  },
  "language_info": {
   "codemirror_mode": {
    "name": "ipython",
    "version": 3
   },
   "file_extension": ".py",
   "mimetype": "text/x-python",
   "name": "python",
   "nbconvert_exporter": "python",
   "pygments_lexer": "ipython3",
   "version": "3.12.6"
  }
 },
 "nbformat": 4,
 "nbformat_minor": 2
}
